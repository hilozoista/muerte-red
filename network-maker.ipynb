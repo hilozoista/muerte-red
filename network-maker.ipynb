{
 "cells": [
  {
   "cell_type": "code",
   "execution_count": 21,
   "metadata": {},
   "outputs": [
    {
     "name": "stdout",
     "output_type": "stream",
     "text": [
      "['Danaë', 'weaves', 'the', 'time', 'gilded', 'by', 'the', 'Nile', 'wrapping', 'the', 'lips', 'which', 'passed', 'between', 'lips', 'and', 'disconnected', 'flights', '.', 'The', 'hand', 'or', 'the', 'lip', 'or', 'the', 'bird', 'snowed', '.', 'It', 'was', 'the', 'circle', 'in', 'snow', 'that', 'was', 'opened', '.', 'Hand', 'without', 'blood', 'was', 'the', 'silk', 'that', 'erased', 'the', 'perfection', 'which', 'dies', 'on', 'its', 'knees', 'and', 'in', 'his', 'zeal', 'hides', 'and', 'frolics', '.', 'Vertical', 'from', 'the', 'marble', 'he', 'NEG', 'see', 'the', 'forehead', 'which', 'opened', 'in', 'moist', 'lotus', '.', 'In', 'endless', 'shriek', 'the', 'grove', 'was', 'opened', 'to', 'the', 'irate', 'redouble', 'of', 'arrow', 'and', 'death', '.', 'Q', 'his', 'cold', 'gaze', 'NEG', 'rush', 'perhaps', 'upon', 'the', 'royal', 'heron', 'and', 'the', 'cold', 'so', 'weak', 'of', 'the', 'west-wind', ',', 'cry', 'that', 'aids', 'the', 'flight', 'from', 'sleep', ',', 'cold', 'flame', 'and', 'sharpened', 'tongue', 'Absolute', 'face', ',', 'false', 'firmness', 'of', 'the', 'mirror', '.', 'The', 'mirror', 'is', 'forgotten', 'by', 'sound', 'and', 'night', 'and', 'its', 'door', 'upon', 'the', 'changeful', 'pontiff', 'half-opens', 'Mask', 'and', 'river', ',', 'spigot-griffin', 'of', 'dreams', '.', 'Dead', 'cold', 'and', 'comet', 'unearthed', 'from', 'the', 'air', 'that', 'creates', 'it', ',', 'from', 'the', 'air', 'that', 'lies', 'to', 'it', ',', 'are', 'of', 'life', 'dragged', 'to', 'the', 'cloud', 'and', 'to', 'the', 'open', 'mouth', 'negated', 'in', 'blood', 'which', 'is', 'moved', '.', 'Ascending', 'in', 'the', 'chest', 'only', 'soft', ',', 'forgotten', 'by', 'a', 'breath', 'which', 'forgets', 'and', 'untangles', '.', 'Forgotten', 'paper', ',', 'fresh', 'eyelet', 'quickens', 'the', 'leaping', 'heart', 'and', 'the', 'smile', 'to', 'the', 'snail', '.', 'The', 'hand', 'which', 'in', 'the', 'air', 'lines', 'impulsed', 'dry', ',', 'smiles', 'walking', 'on', 'the', 'snow', '.', 'Now', 'brought', 'the', 'ear', 'to', 'the', 'snail', ',', 'the', 'snail', 'burying', 'firm', 'ear', 'in', 'the', 'silk', 'of', 'the', 'pool', '.', 'Hailstruck', 'lemonbalm', 'and', 'rivers', 'of', 'frozen', 'velamen', ',', 'guard', 'the', 'signal', 'of', 'a', 'withered', 'leaf', 'of', 'gold', ',', 'levied', 'in', 'spiral', ',', 'over', 'the', 'autumn', 'of', 'waters', 'so', 'boiling', '.', 'Docile', 'ruby', 'keeps', 'sighing', 'in', 'its', 'flight', 'now', 'ascending', '.', 'Now', 'the', 'autumn', 'runs', 'through', 'the', 'islands', 'uncared', ',', 'garnished', 'islands', 'and', 'isolated', 'dove', 'mute', 'between', 'two', 'buried', 'leaves', '.', 'The', 'river', 'in', 'the', 'sum', 'of', 'its', 'eyes', 'announced', 'that', 'which', 'weighs', 'the', 'moon', 'in', 'their', 'backs', 'and', 'the', 'breath', 'which', 'in', 'halo', 'transformed', 'Torches', 'as', 'fishes', ',', 'thin', 'boy', 'works', 'night', 'and', 'sky', ',', 'bow', 'and', 'basket', 'and', 'ignited', 'serpents', ',', 'icicle', 'and', 'sighthound', '.', 'Purple', 'feather', ',', 'NEG', 'wet', ',', 'fish', 'gazing', 'at', 'me', ',', 'sepulchre', '.', 'Equestrian', 'pheasants', 'NEG', 'warn', 'hand', 'without', 'echo', ',', 'unfolded', 'pulse', ':', 'the', 'fingers', 'in', 'immobile', 'calendar', 'and', 'the', 'tedium', 'in', 'his', 'unibrowed', 'throne', '.', 'Slowly', 'the', 'wave', 'is', 'formed', 'in', 'the', 'marmoreal', 'cavity', 'that', 'gazes', 'over', 'backs', 'that', 'never', 'ask', 'me', ',', 'in', 'venom', 'that', 'is', 'never', 'perverted', 'and', 'in', 'his', 'shield', 'neither', 'colts', 'nor', 'pheasants', '.', 'As', 'is', 'spilled', 'the', 'absence', 'in', 'the', 'arrow', 'which', 'isolates', 'and', 'as', 'the', 'strawberry', 'breathes', 'spinning', 'its', 'crystal', ',', 'thus', 'the', 'autumn', 'that', 'in', 'his', 'lip', 'dies', ',', 'thus', 'the', 'hail', 'in', 'soft', 'mirror', 'destroys', 'the', 'gaze', 'that', 'binds', 'him', ',', 'which', 'to', 'him', 'lies', 'with', 'feather', 'to', 'the', 'lips', ',', 'labyrinth', 'and', 'praise', 'run', 'to', 'him', 'joined', 'with', 'the', 'fountain', 'which', 'moistens', 'the', 'dream', '.', 'The', 'absence', ',', 'the', 'mirror', 'now', 'in', 'the', 'locks', 'which', 'in', 'the', 'beach', 'extend', 'and', 'the', 'isolated', 'lock', 'asks', 'and', 'frolics', '.', 'Light', 'frond', 'tips', 'the', 'ascension', 'assumed', '.', 'Q', 'NEG', 'the', 'corinthian', 'curve', 'a', 'betrayal', 'of', 'crystallized', 'mirabelles', ',', 'which', 'the', 'mirror', 'reunites', 'or', 'sails', ',', 'blind', 'exile', '?', 'Now', 'falls', 'only', 'the', 'bird', ',', 'the', 'hand', 'which', 'the', 'prison', 'moves', ',', 'the', 'sunken', 'gods', 'between', 'the', 'stone', ',', 'the', 'carbuncle', 'and', 'the', 'damsel', '.', 'If', 'the', 'absence', 'asks', 'with', 'the', 'fainted', 'snow', ',', 'it', 'forms', 'in', 'feather', ',', 'NEG', 'circles', 'which', 'the', 'octopess', 'abandons', 'submerged', '.', 'Sadly', 'traverses', 'curve', 'tightened', 'in', 'ash-grey', 'heron', 'the', 'space', 'which', 'hands', 'dislodge', ',', 'absent', 'timbre', 'and', 'ardent', 'saffron', ',', 'tender', 'redoubles', 'his', 'extremes', '.', 'Summoned', 'the', 'sleeping', 'are', 'agitated', ',', 'they', 'wrinkle', 'the', 'waves', 'beating', 'around', 'slept', 'chess', ',', 'his', 'untombed', 'tiara', '.', 'His', 'unsepulchred', 'soft', 'wood', 'the', 'frigid', 'beak', 'of', 'the', 'boiling', 'swan', '.', 'Relucent', 'pier', ':', 'false', 'diamonds', ';', 'changeful', 'feather', ':', 'terse', 'atlas', '.', 'Shrieked', 'greens', ':', 'the', 'waves', 'play', ',', 'soft', 'death', 'the', 'lightning', 'in', 'their', 'veins', '.', 'Drowned', 'ribbons', 'mute', 'the', 'lip', 'which', 'they', 'offer', '.', 'Oriental', 'baskets', 'sift', 'water', 'of', 'moon', '.', 'The', 'most', 'slept', 'are', 'those', 'who', 'rush', 'most', ',', 'who', 'are', 'buried', ',', 'feather', 'in', 'the', 'scream', ',', 'masked', 'whistle', ',', 'between', 'foreheads', 'and', 'hooks', '.', 'Stretched', 'marble', 'like', 'a', 'river', 'which', 'recurves', 'or', 'traps', 'the', 'destroyed', 'lips', ',', 'but', 'the', 'blind', 'NEG', 'oscillate', '.', 'Spirals', 'of', 'heroic', 'tenors', 'fall', 'in', 'the', 'breast', 'of', 'a', 'dove', 'and', 'there', 'they', 'agitate', 'until', 'gleaming', 'like', 'arrows', 'in', 'his', 'cloak', 'of', 'night', '.', 'An', 'arrow', 'protrudes', ',', 'a', 'back', 'becomes', 'absent', '.', 'Lightning', 'is', 'violet', 'if', 'pin', 'in', 'the', 'snow', 'and', 'stubborn', 'face', '.', 'Moistened', 'earth', 'ascending', 'to', 'the', 'face', ',', 'closed', 'arrow', '.', 'Dusts', 'of', 'moon', 'and', 'moistened', 'earth', ',', 'the', 'profile', 'broken', 'in', 'the', 'cloud', 'which', 'is', 'mirror', '.', 'Fresh', 'valves', 'of', 'the', 'night', 'and', 'irate', 'limit', 'of', 'the', 'shells', 'in', 'their', 'prison', 'without', 'thirst', 'protrude', 'arms', ',', 'NEG', 'asking', 'corals', 'in', 'stripes', 'of', 'bees', 'and', 'in', 'confused', 'secrets', 'they', 'awake', 'remembering', 'curved', 'arms', 'and', 'encrusting', 'of', 'the', 'forehead', '.', 'Since', 'yesterday', 'the', 'questions', 'frolic', 'or', 'close', 'upon', 'the', 'impulse', 'of', 'powdery', 'fruit', 'or', 'of', 'islands', 'where', 'camp', 'the', 'treasures', 'which', 'rage', 'scatters', ',', 'flatters', ',', 'or', 'reprimands', '.', 'The', 'doncels', 'work', 'in', 'the', 'walnuts', 'and', 'the', 'spurt', 'of', 'the', 'forehead', 'to', 'its', 'sound', 'in', 'the', 'flame', 'he', 'makes', 'his', 'roots', 'and', 'his', 'mansion', 'of', 'buried', 'screams', '.', 'If', 'he', 'moves', ',', 'uncurving', 'bee', ',', 'the', 'mirror', 'destroys', 'the', 'mute', 'river', '.', 'If', 'he', 'sinks', ',', 'half-siren', 'to', 'the', 'fire', ',', 'the', 'loose', 'threads', 'which', 'plough', 'the', 'winter', 'weave', 'white', 'body', 'in', 'questions', 'of', 'pulvereous', 'statue', '.', 'Body', 'of', 'sound', 'the', 'swarm', 'which', 'mute', 'pines', 'clamor', ',', 'waking', 'the', 'breaking', 'waves', 'in', 'smooth', 'blazes', 'and', 'sessile', 'flights', ',', 'guided', 'by', 'the', 'dove', 'which', 'shrieks', 'without', 'eyes', ',', 'which', 'without', 'carnation', 'the', 'forehead-mirror', 'is', 'of', 'waves', ',', 'NEG', 'memories', '.', 'They', 'come', 'reuniting', 'in', 'eyes', ',', 'spinning', 'in', 'the', 'carnation', 'NEG', 'forever', 'burnt', 'the', 'abyss', 'of', 'alquitared', 'snow', 'or', 'groaning', 'in', 'the', 'bolstered', 'sky', '.', 'The', 'steeds', ',', 'if', 'it', 'snows', 'or', 'if', 'he', 'pays', ',', 'guided', 'by', 'gazes', ',', 'are', 'distilled', 'by', 'the', 'plea', 'or', 'more', 'firm', 'recurve', 'to', 'the', 'first', 'muteness', 'already', 'without', 'sky', '.', 'The', 'snow', 'which', 'in', 'the', 'sistrums', 'NEG', 'penetrate', ',', 'argues', 'in', 'leaves', ',', 'uncurving', 'destroys', 'glass', 'in', 'the', 'ear', ',', 'white', 'nests', ',', 'in', 'its', 'center', 'now', 'burn', 'tepid', 'the', 'corals', ',', 'escaped', 'doncels', 'in', 'their', 'deer', 'of', 'tedium', ',', 'in', 'their', 'rosed', 'forests', '.', 'They', 'transform', 'if', 'coral', 'and', 'doncel', 'curl', 'the', 'voices', ',', 'snow', 'the', 'paths', ',', 'where', 'the', 'sonorous', 'body', 'rocks', 'with', 'the', 'pines', ',', 'slim', 'nodding', '.', 'Yet', 'forceful', 'pine', ',', 'now', 'column', 'of', 'smoke', 'so', 'watery', 'that', 'canary', 'is', 'its', 'needle', 'and', 'jet', 'in', 'uncurled', 'wind', '.', 'Narcissus', ',', 'Narcissus', '.', 'The', 'antlers', 'of', 'the', 'murdered', 'deer', 'are', 'fish', ',', 'are', 'flames', ',', 'are', 'flutes', ',', 'are', 'nibbled', 'fingers', '.', 'Narcissus', ',', 'Narcissus', '.', 'The', 'hairs', 'guiding', 'florentines', 'crawl', 'over', 'profiles', ',', 'lips', 'their', 'routes', ',', 'sad', 'flames', 'the', 'waves', 'biting', 'their', 'hips', '.', 'Fish', 'of', 'cold', 'green', 'the', 'air', 'in', 'the', 'mirror', 'without', 'stripes', ',', 'posy', 'of', 'doves', 'hidden', 'in', 'the', 'dead', 'throat', ',', 'daughter', 'of', 'arrow', 'and', 'of', 'swans', '.', 'Heron', 'digresses', ',', 'shell', 'in', 'the', 'wave', ',', 'cloud', 'in', 'the', 'carelessness', ',', 'Spray', 'hung', 'from', 'the', 'eyes', ',', 'marmoreal', 'drop', 'and', 'sweet', 'plinth', 'NEG', 'offering', '.', 'Shriek', 'fruited', 'in', 'the', 'snow', ',', 'the', 'secret', 'in', 'geranium', 'transformed', '.', 'The', 'whiteness', 'silk', 'is', 'ascending', 'in', 'spilled', 'lip', ',', 'it', 'opens', 'an', 'amnesia', 'in', 'the', 'islands', ',', 'sword', 'and', 'eyelashes', 'come', 'to', 'give+way', 'to', 'sleep', ',', 'to', 'yield', 'mirror', 'in', 'littoral', 'of', 'impure', 'earth', 'and', 'stone', '.', 'Moist', 'lips', 'NEG', 'in', 'the', 'shell', 'that', 'looks', 'for', 'uncurving', 'thread', ',', 'slaves', 'of', 'profile', 'and', 'of', 'dry', 'velamen', 'the', 'air', 'bites', 'upon', 'litmus', 'that', 'changes', 'its', 'sound', 'in', 'golden', 'litmus', 'of', 'salty', 'lime', 'looks', 'in', 'the', 'golden', 'mirror', 'of', 'death', ',', 'shell', 'of', 'sound', '.', 'If', 'he', 'crosses', 'the', 'mirror', 'the', 'waters', 'which', 'agitate', 'the', 'ear', 'boil', '.', 'If', 'he', 'sits', 'in', 'his', 'fringe', 'or', 'in', 'his', 'forehead', 'the', 'centurion', 'pulses', 'in', 'his', 'side', '.', 'If', 'he', 'declaims', 'the', 'letters', 'in', 'the', 'dream', 'penetrate', 'the', 'gaze', 'and', 'wrinkle', '.', 'Wave', 'of', 'air', 'wraps', 'albino', 'secret', ',', 'harpooned', 'skin', ',', 'that', 'colored', 'mirror', 'shadow', 'is', 'of', 'memory', 'and', 'minute', 'of', 'silence', '.', 'Now', 'pierces', 'whiteness', 'uncurving', 'endless', 'in', 'dry', 'flames', 'and', 'drizzled', 'leaves', '.', 'Stream', 'of', 'uncreated', 'bees', 'bite', 'the', 'wake', ',', 'ask', 'for', 'the', 'flank', '.', 'Thus', 'the', 'mirror', 'verified', 'speechless', ',', 'thus', 'Narcissus', 'at', 'high', 'tide', 'fled', 'wingless', '.']\n"
     ]
    }
   ],
   "source": [
    "#open file\n",
    "import nltk\n",
    "with open('./muerte-eng.txt') as file:\n",
    "    muerte = file.read()\n",
    "stanzas = muerte.split('\\n\\n')\n",
    "\n",
    "with open('./eng-stopwords.txt') as file1:\n",
    "    stopwords = file1.read()\n",
    "\n",
    "muerte_words = nltk.word_tokenize(muerte)\n",
    "stopwords = list(set(stopwords.split('\\n')))\n",
    "stopwords.append(',') #i am not regarding commas for now\n",
    "print(muerte_words)\n",
    "NEGS = [\"without\", \"neither\", \"nor\", \"not\"]\n",
    "#\"did not\", \"do not\", \"does not\", \"no longer\" were manually removed\n",
    "QS = [\"did\", \"does\"] #-> question\n",
    "punct = ['?','.',';',':']\n",
    "#if -> IF\n",
    "#give way is one word\n",
    "\n",
    "#make tokens in order to make nodes later\n",
    "#make list of common words to have under lemmas"
   ]
  },
  {
   "cell_type": "code",
   "execution_count": 22,
   "metadata": {},
   "outputs": [],
   "source": [
    "#takes stanza string\n",
    "def datamaker(s,number):\n",
    "    \n",
    "    # write file\n",
    "    n = open(\"nodes-\"+str(number)+\".csv\", \"w\")\n",
    "    e = open(\"edges-\"+str(number)+\".csv\", \"w\")\n",
    "    \n",
    "    n.write(\"id,weight\\n\")\n",
    "    e.write('from,to,type\\n')\n",
    "\n",
    "    #TOKENIZED WORDS IN STANZA WITHOUT\n",
    "    #HAVING PROCESSED THEM\n",
    "    s = s.lower()\n",
    "    s = nltk.word_tokenize(s)\n",
    "    s = [word for word in s if word not in stopwords]\n",
    "    S = []\n",
    "    for word in s:\n",
    "        if(word in NEGS or word=='neg'):\n",
    "            S.append('NEG')\n",
    "        elif(word=='q'):\n",
    "            S.append('Q')\n",
    "        elif(word=='if'):\n",
    "            S.append('IF')\n",
    "        else:\n",
    "            S.append(word)\n",
    "    #ordered set\n",
    "    nodes_list=[word for word in S if word not in punct]\n",
    "    nodes = []\n",
    "    for word in nodes_list:\n",
    "        if word not in nodes:\n",
    "            nodes.append(word)\n",
    "\n",
    "    for word in nodes:\n",
    "        n.write(word+','+str(muerte_words.count(word))+'\\n')\n",
    "    \n",
    "    #adding all edges    \n",
    "    i = 0\n",
    "    while i < len(S)-1:\n",
    "        if(S[i+1] in punct):\n",
    "            if(i+1<len(S)-1):\n",
    "                e.write(S[i]+','+S[i+2]+','+'2\\n')\n",
    "                i+=2\n",
    "            else:\n",
    "                i+=1\n",
    "        else:\n",
    "            e.write(S[i]+','+S[i+1]+','+'1\\n')\n",
    "        i+=1\n",
    "        \n",
    "    n.close()\n",
    "    e.close()\n",
    "    return"
   ]
  },
  {
   "cell_type": "code",
   "execution_count": 23,
   "metadata": {},
   "outputs": [],
   "source": [
    "for index, stanza in enumerate(stanzas):\n",
    "    datamaker(stanza,index)"
   ]
  },
  {
   "cell_type": "code",
   "execution_count": null,
   "metadata": {},
   "outputs": [],
   "source": []
  },
  {
   "cell_type": "code",
   "execution_count": null,
   "metadata": {},
   "outputs": [],
   "source": []
  }
 ],
 "metadata": {
  "kernelspec": {
   "display_name": "Python 3",
   "language": "python",
   "name": "python3"
  },
  "language_info": {
   "codemirror_mode": {
    "name": "ipython",
    "version": 3
   },
   "file_extension": ".py",
   "mimetype": "text/x-python",
   "name": "python",
   "nbconvert_exporter": "python",
   "pygments_lexer": "ipython3",
   "version": "3.7.1"
  }
 },
 "nbformat": 4,
 "nbformat_minor": 2
}
